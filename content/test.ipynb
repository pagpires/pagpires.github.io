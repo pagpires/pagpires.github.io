{
 "cells": [
  {
   "cell_type": "markdown",
   "metadata": {},
   "source": [
    "This is a test ipython notebook."
   ]
  },
  {
   "cell_type": "code",
   "execution_count": 4,
   "metadata": {
    "collapsed": false
   },
   "outputs": [
    {
     "name": "stdout",
     "output_type": "stream",
     "text": [
      "3\n",
      "hello world!\n"
     ]
    }
   ],
   "source": [
    "a = 1\n",
    "b = 2\n",
    "print a+b\n",
    "print \"hello world!\""
   ]
  }
 ],
 "metadata": {
  "kernelspec": {
   "display_name": "Python [jupyter-blog]",
   "language": "python",
   "name": "Python [jupyter-blog]"
  },
  "language_info": {
   "codemirror_mode": {
    "name": "ipython",
    "version": 2
   },
   "file_extension": ".py",
   "mimetype": "text/x-python",
   "name": "python",
   "nbconvert_exporter": "python",
   "pygments_lexer": "ipython2",
   "version": "2.7.12"
  }
 },
 "nbformat": 4,
 "nbformat_minor": 0
}
